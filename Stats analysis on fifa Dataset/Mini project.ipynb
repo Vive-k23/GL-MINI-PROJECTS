{
 "cells": [
  {
   "cell_type": "markdown",
   "id": "cd7469d4",
   "metadata": {},
   "source": [
    "   #                             Statistics Mini Project"
   ]
  },
  {
   "cell_type": "code",
   "execution_count": 1,
   "id": "73e61d85",
   "metadata": {},
   "outputs": [],
   "source": [
    "import numpy as np\n",
    "import pandas as pd\n",
    "from matplotlib import pyplot as plt\n",
    "import seaborn as sns\n",
    "import scipy.stats as stats\n",
    "import random\n",
    "from warnings import filterwarnings\n",
    "filterwarnings('ignore')\n",
    "from scipy.stats import chi2_contingency\n",
    "from scipy.stats import chi2\n",
    "from scipy.stats import chisquare\n",
    "import statsmodels.api as sm\n",
    "from statsmodels.formula.api import ols\n",
    "from statsmodels.stats.anova import anova_lm\n",
    "import statsmodels.stats.multicomp as mc\n",
    "import scikit_posthocs"
   ]
  },
  {
   "cell_type": "markdown",
   "id": "477fb124",
   "metadata": {},
   "source": [
    "1. Perform the following statistical analysis on the fifa world cup dataset. \n",
    "\n",
    "The dataset consists of player information, which includes height; weight overall rating, \n",
    "\n",
    "potential etc. Data Cleaning and basic EDA process needs to be performed. "
   ]
  },
  {
   "cell_type": "code",
   "execution_count": 2,
   "id": "aee61297",
   "metadata": {
    "scrolled": true
   },
   "outputs": [
    {
     "data": {
      "text/html": [
       "<div>\n",
       "<style scoped>\n",
       "    .dataframe tbody tr th:only-of-type {\n",
       "        vertical-align: middle;\n",
       "    }\n",
       "\n",
       "    .dataframe tbody tr th {\n",
       "        vertical-align: top;\n",
       "    }\n",
       "\n",
       "    .dataframe thead th {\n",
       "        text-align: right;\n",
       "    }\n",
       "</style>\n",
       "<table border=\"1\" class=\"dataframe\">\n",
       "  <thead>\n",
       "    <tr style=\"text-align: right;\">\n",
       "      <th></th>\n",
       "      <th>Name</th>\n",
       "      <th>Age</th>\n",
       "      <th>Nationality</th>\n",
       "      <th>Overall_rating</th>\n",
       "      <th>Potential</th>\n",
       "      <th>Club</th>\n",
       "      <th>Preferred Foot</th>\n",
       "      <th>International Reputation</th>\n",
       "      <th>Weak Foot</th>\n",
       "      <th>Skill Moves</th>\n",
       "      <th>Work Rate</th>\n",
       "      <th>Position</th>\n",
       "      <th>Jersey Number</th>\n",
       "      <th>Height</th>\n",
       "      <th>Weight</th>\n",
       "    </tr>\n",
       "  </thead>\n",
       "  <tbody>\n",
       "    <tr>\n",
       "      <th>0</th>\n",
       "      <td>L. Messi</td>\n",
       "      <td>31</td>\n",
       "      <td>Argentina</td>\n",
       "      <td>94</td>\n",
       "      <td>94</td>\n",
       "      <td>FC Barcelona</td>\n",
       "      <td>Left</td>\n",
       "      <td>5</td>\n",
       "      <td>4</td>\n",
       "      <td>4</td>\n",
       "      <td>Medium/ Medium</td>\n",
       "      <td>RF</td>\n",
       "      <td>10</td>\n",
       "      <td>5.583333</td>\n",
       "      <td>159</td>\n",
       "    </tr>\n",
       "    <tr>\n",
       "      <th>1</th>\n",
       "      <td>Cristiano Ronaldo</td>\n",
       "      <td>33</td>\n",
       "      <td>Portugal</td>\n",
       "      <td>94</td>\n",
       "      <td>94</td>\n",
       "      <td>Juventus</td>\n",
       "      <td>Right</td>\n",
       "      <td>5</td>\n",
       "      <td>4</td>\n",
       "      <td>5</td>\n",
       "      <td>High/ Low</td>\n",
       "      <td>ST</td>\n",
       "      <td>7</td>\n",
       "      <td>6.166667</td>\n",
       "      <td>183</td>\n",
       "    </tr>\n",
       "    <tr>\n",
       "      <th>2</th>\n",
       "      <td>Neymar Jr</td>\n",
       "      <td>26</td>\n",
       "      <td>Brazil</td>\n",
       "      <td>92</td>\n",
       "      <td>93</td>\n",
       "      <td>Paris Saint-Germain</td>\n",
       "      <td>Right</td>\n",
       "      <td>5</td>\n",
       "      <td>5</td>\n",
       "      <td>5</td>\n",
       "      <td>High/ Medium</td>\n",
       "      <td>LW</td>\n",
       "      <td>10</td>\n",
       "      <td>5.750000</td>\n",
       "      <td>150</td>\n",
       "    </tr>\n",
       "    <tr>\n",
       "      <th>3</th>\n",
       "      <td>De Gea</td>\n",
       "      <td>27</td>\n",
       "      <td>Spain</td>\n",
       "      <td>91</td>\n",
       "      <td>93</td>\n",
       "      <td>Manchester United</td>\n",
       "      <td>Right</td>\n",
       "      <td>4</td>\n",
       "      <td>3</td>\n",
       "      <td>1</td>\n",
       "      <td>Medium/ Medium</td>\n",
       "      <td>GK</td>\n",
       "      <td>1</td>\n",
       "      <td>6.333333</td>\n",
       "      <td>168</td>\n",
       "    </tr>\n",
       "    <tr>\n",
       "      <th>4</th>\n",
       "      <td>K. De Bruyne</td>\n",
       "      <td>27</td>\n",
       "      <td>Belgium</td>\n",
       "      <td>91</td>\n",
       "      <td>92</td>\n",
       "      <td>Manchester City</td>\n",
       "      <td>Right</td>\n",
       "      <td>4</td>\n",
       "      <td>5</td>\n",
       "      <td>4</td>\n",
       "      <td>High/ High</td>\n",
       "      <td>RCM</td>\n",
       "      <td>7</td>\n",
       "      <td>5.083333</td>\n",
       "      <td>154</td>\n",
       "    </tr>\n",
       "  </tbody>\n",
       "</table>\n",
       "</div>"
      ],
      "text/plain": [
       "                Name  Age Nationality  Overall_rating  Potential  \\\n",
       "0           L. Messi   31   Argentina              94         94   \n",
       "1  Cristiano Ronaldo   33    Portugal              94         94   \n",
       "2          Neymar Jr   26      Brazil              92         93   \n",
       "3             De Gea   27       Spain              91         93   \n",
       "4       K. De Bruyne   27     Belgium              91         92   \n",
       "\n",
       "                  Club Preferred Foot  International Reputation  Weak Foot  \\\n",
       "0         FC Barcelona           Left                         5          4   \n",
       "1             Juventus          Right                         5          4   \n",
       "2  Paris Saint-Germain          Right                         5          5   \n",
       "3    Manchester United          Right                         4          3   \n",
       "4      Manchester City          Right                         4          5   \n",
       "\n",
       "   Skill Moves       Work Rate Position  Jersey Number    Height  Weight  \n",
       "0            4  Medium/ Medium       RF             10  5.583333     159  \n",
       "1            5       High/ Low       ST              7  6.166667     183  \n",
       "2            5    High/ Medium       LW             10  5.750000     150  \n",
       "3            1  Medium/ Medium       GK              1  6.333333     168  \n",
       "4            4      High/ High      RCM              7  5.083333     154  "
      ]
     },
     "execution_count": 2,
     "metadata": {},
     "output_type": "execute_result"
    }
   ],
   "source": [
    "df=pd.read_csv('fifa_stats.csv')\n",
    "df.head(5)"
   ]
  },
  {
   "cell_type": "code",
   "execution_count": 3,
   "id": "d53afb84",
   "metadata": {},
   "outputs": [],
   "source": [
    "#treating null values"
   ]
  },
  {
   "cell_type": "code",
   "execution_count": 4,
   "id": "545e8b4c",
   "metadata": {},
   "outputs": [
    {
     "data": {
      "text/plain": [
       "['Club']"
      ]
     },
     "execution_count": 4,
     "metadata": {},
     "output_type": "execute_result"
    }
   ],
   "source": [
    "null_count=df.columns[df.isna().any()].to_list()\n",
    "null_count"
   ]
  },
  {
   "cell_type": "code",
   "execution_count": 5,
   "id": "f9c6e6e6",
   "metadata": {},
   "outputs": [
    {
     "name": "stdout",
     "output_type": "stream",
     "text": [
      "null_count\n",
      "Club    19\n",
      "dtype: int64\n",
      "--------------------\n",
      "null_percent\n",
      "Club    0.95\n",
      "dtype: float64\n"
     ]
    }
   ],
   "source": [
    "print(\"null_count\")\n",
    "print(df[null_count].isna().sum())\n",
    "print('-'*20)\n",
    "print('null_percent')\n",
    "print(df[null_count].isna().sum()/len(df)*100)"
   ]
  },
  {
   "cell_type": "code",
   "execution_count": 6,
   "id": "7d91120c",
   "metadata": {},
   "outputs": [
    {
     "data": {
      "image/png": "[encoded data removed]",
      "text/plain": [
       "<Figure size 432x288 with 2 Axes>"
      ]
     },
     "metadata": {
      "needs_background": "light"
     },
     "output_type": "display_data"
    }
   ],
   "source": [
    "sns.heatmap(df.isna(),cmap='nipy_spectral')\n",
    "plt.show()"
   ]
  },
  {
   "cell_type": "code",
   "execution_count": 7,
   "id": "0efe3065",
   "metadata": {},
   "outputs": [],
   "source": [
    "df['Club'].fillna(method='ffill',inplace=True)"
   ]
  },
  {
   "cell_type": "code",
   "execution_count": 8,
   "id": "0529f45a",
   "metadata": {},
   "outputs": [
    {
     "data": {
      "text/plain": [
       "<AxesSubplot:>"
      ]
     },
     "execution_count": 8,
     "metadata": {},
     "output_type": "execute_result"
    },
    {
     "data": {
      "image/png": "[encoded data removed]",
      "text/plain": [
       "<Figure size 432x288 with 2 Axes>"
      ]
     },
     "metadata": {
      "needs_background": "light"
     },
     "output_type": "display_data"
    }
   ],
   "source": [
    "sns.heatmap(df.isna())"
   ]
  },
  {
   "cell_type": "markdown",
   "id": "380f7863",
   "metadata": {},
   "source": [
    "\n",
    "a)\tAssuming age as population, perform the central limit theorem with sample size of 200. Find the standard error and the mean of sampling distribution. Compare the results with population mean and standard deviation. Explain in non-technical terms why the estimated standard error of a sample mean tends to decrease with an increase in sample size\n",
    "\n"
   ]
  },
  {
   "cell_type": "code",
   "execution_count": 9,
   "id": "c80739c6",
   "metadata": {},
   "outputs": [
    {
     "data": {
      "text/plain": [
       "0       31\n",
       "1       33\n",
       "2       26\n",
       "3       27\n",
       "4       27\n",
       "        ..\n",
       "1995    22\n",
       "1996    31\n",
       "1997    22\n",
       "1998    32\n",
       "1999    28\n",
       "Name: Age, Length: 2000, dtype: int64"
      ]
     },
     "execution_count": 9,
     "metadata": {},
     "output_type": "execute_result"
    }
   ],
   "source": [
    "df['Age']"
   ]
  },
  {
   "cell_type": "code",
   "execution_count": 10,
   "id": "447956f7",
   "metadata": {},
   "outputs": [
    {
     "data": {
      "text/plain": [
       "<AxesSubplot:xlabel='Age', ylabel='Density'>"
      ]
     },
     "execution_count": 10,
     "metadata": {},
     "output_type": "execute_result"
    },
    {
     "data": {
      "image/png": "[encoded data removed]",
      "text/plain": [
       "<Figure size 432x288 with 1 Axes>"
      ]
     },
     "metadata": {
      "needs_background": "light"
     },
     "output_type": "display_data"
    }
   ],
   "source": [
    "sns.distplot(df['Age'],color='DarkRed')"
   ]
  },
  {
   "cell_type": "markdown",
   "id": "8c868174",
   "metadata": {},
   "source": []
  },
  {
   "cell_type": "code",
   "execution_count": 11,
   "id": "40393faa",
   "metadata": {},
   "outputs": [
    {
     "name": "stdout",
     "output_type": "stream",
     "text": [
      "Population mean: 27.2315\n",
      "Population standard deviation: 3.8590612753574423\n",
      "----------------------------------------\n",
      "sample_mean: 26.915\n",
      "sample_standard error: 4.057101844529469\n"
     ]
    }
   ],
   "source": [
    "#takinng sample from age and performind central limit theorm\n",
    "sample_size=200\n",
    "no_of_sample=2000\n",
    "sample_of_mean=[]\n",
    "for i in range(no_of_sample):\n",
    "    sample_age=np.random.choice(df['Age'] ,size=200)\n",
    "    sample_mean=np.mean(sample_age)\n",
    "    sample_sd=np.std(sample_age,ddof=1)\n",
    "    sample_of_mean.append(sample_mean)\n",
    "print('Population mean:', df['Age'].mean())\n",
    "print('Population standard deviation:',df['Age'].std())\n",
    "print('-'*40)\n",
    "print('sample_mean:',sample_mean)\n",
    "print('sample_standard error:',sample_sd)"
   ]
  },
  {
   "cell_type": "code",
   "execution_count": 12,
   "id": "190cda9c",
   "metadata": {
    "scrolled": true
   },
   "outputs": [
    {
     "data": {
      "text/plain": [
       "<AxesSubplot:ylabel='Density'>"
      ]
     },
     "execution_count": 12,
     "metadata": {},
     "output_type": "execute_result"
    },
    {
     "data": {
      "image/png": "[encoded data removed]",
      "text/plain": [
       "<Figure size 432x288 with 1 Axes>"
      ]
     },
     "metadata": {
      "needs_background": "light"
     },
     "output_type": "display_data"
    }
   ],
   "source": [
    "sns.distplot(sample_of_mean,color='DarkBlue')"
   ]
  },
  {
   "cell_type": "code",
   "execution_count": 13,
   "id": "22967d56",
   "metadata": {},
   "outputs": [],
   "source": [
    "#estimated sample error tend to decrease if we take large sample size beecause if we take large sample size\n",
    "#then the sample mean will get closer to population mean. that will eventually standard error minimal"
   ]
  },
  {
   "cell_type": "markdown",
   "id": "39368505",
   "metadata": {},
   "source": [
    "b)\tIs there any evidence that the players overall rating is greater than 80?\n",
    "\n"
   ]
  },
  {
   "cell_type": "code",
   "execution_count": 14,
   "id": "3267558a",
   "metadata": {},
   "outputs": [],
   "source": [
    "#H0>=80\n",
    "#H1<80"
   ]
  },
  {
   "cell_type": "code",
   "execution_count": 15,
   "id": "88cf4b1a",
   "metadata": {},
   "outputs": [],
   "source": [
    "n=len(df)\n",
    "x_bar=df['Overall_rating'].mean()\n",
    "mu=80\n",
    "sd=df['Overall_rating'].std()"
   ]
  },
  {
   "cell_type": "code",
   "execution_count": 16,
   "id": "1407830f",
   "metadata": {},
   "outputs": [
    {
     "name": "stdout",
     "output_type": "stream",
     "text": [
      "z_stat: -24.538460498672645\n"
     ]
    }
   ],
   "source": [
    "#calculating z_stat for one sample z_test\n",
    "z_stat=(x_bar - mu)/(sd/n**0.5)\n",
    "print('z_stat:',z_stat)"
   ]
  },
  {
   "cell_type": "code",
   "execution_count": 17,
   "id": "66bb147c",
   "metadata": {
    "scrolled": true
   },
   "outputs": [
    {
     "name": "stdout",
     "output_type": "stream",
     "text": [
      "z_critical: -1.6448536269514729\n"
     ]
    }
   ],
   "source": [
    "#calculating z_critical\n",
    "z_critical=stats.norm.ppf(0.05)\n",
    "print('z_critical:',z_critical)"
   ]
  },
  {
   "cell_type": "code",
   "execution_count": 18,
   "id": "d19c0844",
   "metadata": {},
   "outputs": [
    {
     "name": "stdout",
     "output_type": "stream",
     "text": [
      "P_value : 2.8718642827629733e-133\n"
     ]
    }
   ],
   "source": [
    "p_value=stats.norm.cdf(z_stat)\n",
    "print('P_value :',p_value)"
   ]
  },
  {
   "cell_type": "code",
   "execution_count": 19,
   "id": "fc6fef25",
   "metadata": {},
   "outputs": [],
   "source": [
    "#here z_stat<z_critical, therefor reject null=accept alternate, so we can conclude that\n",
    "# player overall rating is not greater than 80"
   ]
  },
  {
   "cell_type": "markdown",
   "id": "508cc175",
   "metadata": {},
   "source": [
    "c)\tPerform the statistical test to identify whether preferred foot has any impact on potential. Also, perform the graphical analysis.\n",
    "\n"
   ]
  },
  {
   "cell_type": "code",
   "execution_count": 20,
   "id": "0222d502",
   "metadata": {},
   "outputs": [],
   "source": [
    "#H0:variable are independent\n",
    "#H1:variables are not independent"
   ]
  },
  {
   "cell_type": "code",
   "execution_count": 21,
   "id": "8b872cb7",
   "metadata": {
    "scrolled": true
   },
   "outputs": [
    {
     "data": {
      "text/html": [
       "<div>\n",
       "<style scoped>\n",
       "    .dataframe tbody tr th:only-of-type {\n",
       "        vertical-align: middle;\n",
       "    }\n",
       "\n",
       "    .dataframe tbody tr th {\n",
       "        vertical-align: top;\n",
       "    }\n",
       "\n",
       "    .dataframe thead th {\n",
       "        text-align: right;\n",
       "    }\n",
       "</style>\n",
       "<table border=\"1\" class=\"dataframe\">\n",
       "  <thead>\n",
       "    <tr style=\"text-align: right;\">\n",
       "      <th>Potential</th>\n",
       "      <th>75</th>\n",
       "      <th>76</th>\n",
       "      <th>77</th>\n",
       "      <th>78</th>\n",
       "      <th>79</th>\n",
       "      <th>80</th>\n",
       "      <th>81</th>\n",
       "      <th>82</th>\n",
       "      <th>83</th>\n",
       "      <th>84</th>\n",
       "      <th>...</th>\n",
       "      <th>86</th>\n",
       "      <th>87</th>\n",
       "      <th>88</th>\n",
       "      <th>89</th>\n",
       "      <th>90</th>\n",
       "      <th>91</th>\n",
       "      <th>92</th>\n",
       "      <th>93</th>\n",
       "      <th>94</th>\n",
       "      <th>95</th>\n",
       "    </tr>\n",
       "    <tr>\n",
       "      <th>Preferred Foot</th>\n",
       "      <th></th>\n",
       "      <th></th>\n",
       "      <th></th>\n",
       "      <th></th>\n",
       "      <th></th>\n",
       "      <th></th>\n",
       "      <th></th>\n",
       "      <th></th>\n",
       "      <th></th>\n",
       "      <th></th>\n",
       "      <th></th>\n",
       "      <th></th>\n",
       "      <th></th>\n",
       "      <th></th>\n",
       "      <th></th>\n",
       "      <th></th>\n",
       "      <th></th>\n",
       "      <th></th>\n",
       "      <th></th>\n",
       "      <th></th>\n",
       "      <th></th>\n",
       "    </tr>\n",
       "  </thead>\n",
       "  <tbody>\n",
       "    <tr>\n",
       "      <th>Left</th>\n",
       "      <td>59</td>\n",
       "      <td>42</td>\n",
       "      <td>41</td>\n",
       "      <td>31</td>\n",
       "      <td>34</td>\n",
       "      <td>51</td>\n",
       "      <td>32</td>\n",
       "      <td>29</td>\n",
       "      <td>30</td>\n",
       "      <td>32</td>\n",
       "      <td>...</td>\n",
       "      <td>17</td>\n",
       "      <td>16</td>\n",
       "      <td>9</td>\n",
       "      <td>13</td>\n",
       "      <td>6</td>\n",
       "      <td>1</td>\n",
       "      <td>4</td>\n",
       "      <td>0</td>\n",
       "      <td>2</td>\n",
       "      <td>0</td>\n",
       "    </tr>\n",
       "    <tr>\n",
       "      <th>Right</th>\n",
       "      <td>153</td>\n",
       "      <td>182</td>\n",
       "      <td>176</td>\n",
       "      <td>114</td>\n",
       "      <td>120</td>\n",
       "      <td>142</td>\n",
       "      <td>111</td>\n",
       "      <td>100</td>\n",
       "      <td>107</td>\n",
       "      <td>78</td>\n",
       "      <td>...</td>\n",
       "      <td>49</td>\n",
       "      <td>36</td>\n",
       "      <td>32</td>\n",
       "      <td>18</td>\n",
       "      <td>15</td>\n",
       "      <td>11</td>\n",
       "      <td>5</td>\n",
       "      <td>4</td>\n",
       "      <td>1</td>\n",
       "      <td>1</td>\n",
       "    </tr>\n",
       "  </tbody>\n",
       "</table>\n",
       "<p>2 rows × 21 columns</p>\n",
       "</div>"
      ],
      "text/plain": [
       "Potential        75   76   77   78   79   80   81   82   83  84  ...  86  87  \\\n",
       "Preferred Foot                                                   ...           \n",
       "Left             59   42   41   31   34   51   32   29   30  32  ...  17  16   \n",
       "Right           153  182  176  114  120  142  111  100  107  78  ...  49  36   \n",
       "\n",
       "Potential       88  89  90  91  92  93  94  95  \n",
       "Preferred Foot                                  \n",
       "Left             9  13   6   1   4   0   2   0  \n",
       "Right           32  18  15  11   5   4   1   1  \n",
       "\n",
       "[2 rows x 21 columns]"
      ]
     },
     "execution_count": 21,
     "metadata": {},
     "output_type": "execute_result"
    }
   ],
   "source": [
    "observed_values=pd.crosstab(df['Preferred Foot'],df['Potential'])\n",
    "observed_values"
   ]
  },
  {
   "cell_type": "code",
   "execution_count": 22,
   "id": "e7547261",
   "metadata": {},
   "outputs": [
    {
     "name": "stdout",
     "output_type": "stream",
     "text": [
      "chi_critical: 31.41043284423092\n"
     ]
    }
   ],
   "source": [
    "#calculating critical value for chisqaure test for independence\n",
    "chi_critical=stats.chi2.isf(0.05,20)\n",
    "print('chi_critical:',chi_critical)"
   ]
  },
  {
   "cell_type": "code",
   "execution_count": 23,
   "id": "33255cb5",
   "metadata": {
    "scrolled": true
   },
   "outputs": [
    {
     "name": "stdout",
     "output_type": "stream",
     "text": [
      "test_stat: 29.55053700074528\n",
      "p_value 0.07747130218941192\n",
      "dof 20\n",
      "expected_value [[ 49.396  52.192  50.561  33.785  35.882  44.969  33.319  30.057  31.921\n",
      "   25.63   22.368  15.378  12.116   9.553   7.223   4.893   2.796   2.097\n",
      "    0.932   0.699   0.233]\n",
      " [162.604 171.808 166.439 111.215 118.118 148.031 109.681  98.943 105.079\n",
      "   84.37   73.632  50.622  39.884  31.447  23.777  16.107   9.204   6.903\n",
      "    3.068   2.301   0.767]]\n"
     ]
    }
   ],
   "source": [
    "#calculating test_stat ,p_value\n",
    "test_stat , p_value , dof , expected_value=chi2_contingency(observed_values,correction=False)\n",
    "print('test_stat:',test_stat)\n",
    "print('p_value',p_value)\n",
    "print('dof',dof)\n",
    "print('expected_value',expected_value)"
   ]
  },
  {
   "cell_type": "code",
   "execution_count": 24,
   "id": "59b558f1",
   "metadata": {},
   "outputs": [],
   "source": [
    "#here pvalue>alpha(level of significance),therefore failed to reject null,  so we can conclude that\n",
    "# preferred foot has no impact on potential"
   ]
  },
  {
   "cell_type": "code",
   "execution_count": 25,
   "id": "a85a2556",
   "metadata": {
    "scrolled": true
   },
   "outputs": [
    {
     "data": {
      "image/png": "[encoded data removed]",
      "text/plain": [
       "<Figure size 432x288 with 1 Axes>"
      ]
     },
     "metadata": {
      "needs_background": "light"
     },
     "output_type": "display_data"
    }
   ],
   "source": [
    "#plotting scatterplot \n",
    "sns.scatterplot(data=df,x='Preferred Foot',y='Potential',color='DarkRed')\n",
    "plt.show()"
   ]
  },
  {
   "cell_type": "markdown",
   "id": "845a6601",
   "metadata": {},
   "source": [
    "d)\tPerform the statistical test to identify the relation between the overall rating and potential. [Assume both are continuous data points].\n",
    "\n"
   ]
  },
  {
   "cell_type": "code",
   "execution_count": 26,
   "id": "70390666",
   "metadata": {},
   "outputs": [],
   "source": [
    "#H0:variable are independent\n",
    "#H1:variables are not independent"
   ]
  },
  {
   "cell_type": "code",
   "execution_count": 27,
   "id": "a7779303",
   "metadata": {},
   "outputs": [],
   "source": [
    "ObservedValue=pd.crosstab(df['Overall_rating'],df['Potential'])\n"
   ]
  },
  {
   "cell_type": "code",
   "execution_count": 28,
   "id": "0efeacbd",
   "metadata": {},
   "outputs": [
    {
     "data": {
      "text/plain": [
       "360"
      ]
     },
     "execution_count": 28,
     "metadata": {},
     "output_type": "execute_result"
    }
   ],
   "source": [
    "#dof\n",
    "d0f=(19-1)*(21-1)\n",
    "d0f"
   ]
  },
  {
   "cell_type": "code",
   "execution_count": 29,
   "id": "14f2ce6a",
   "metadata": {
    "scrolled": true
   },
   "outputs": [
    {
     "name": "stdout",
     "output_type": "stream",
     "text": [
      "chi_critical: 405.24350231839315\n",
      "-----------------------------------\n",
      "test_stat: 8592.974091115166\n",
      "p_value 0.0\n",
      "dof 360\n"
     ]
    }
   ],
   "source": [
    "#calculating critical value for chisquare test of independence\n",
    "chi_critical=stats.chi2.isf(0.05,360)\n",
    "print('chi_critical:',chi_critical)\n",
    "print('-'*35)\n",
    "#calculating test_stat and p_value\n",
    "test_stat , p_value , dof ,expected_value=chi2_contingency(ObservedValue,correction=False)\n",
    "print('test_stat:',test_stat)\n",
    "print('p_value',p_value)\n",
    "print('dof',dof)\n"
   ]
  },
  {
   "cell_type": "code",
   "execution_count": 30,
   "id": "0886933c",
   "metadata": {},
   "outputs": [],
   "source": [
    "##here test_stat>z_critical, therefor reject null=accept alternate, so we can conclude that\n",
    "#overall rating and potential are dependent on each other"
   ]
  },
  {
   "cell_type": "markdown",
   "id": "fb2b0843",
   "metadata": {},
   "source": [
    "e)\tDoes skill move have any effect in overall rating? Perform the graphical analysis and the statistical analysis.\n"
   ]
  },
  {
   "cell_type": "code",
   "execution_count": 31,
   "id": "b49a5f7f",
   "metadata": {},
   "outputs": [],
   "source": [
    "#H0:variable are independent\n",
    "#H1:variables are not independent"
   ]
  },
  {
   "cell_type": "code",
   "execution_count": 32,
   "id": "5f27688c",
   "metadata": {},
   "outputs": [],
   "source": [
    "observedValue=pd.crosstab(df['Skill Moves'],df['Overall_rating'])"
   ]
  },
  {
   "cell_type": "code",
   "execution_count": 33,
   "id": "d79ff57b",
   "metadata": {},
   "outputs": [
    {
     "data": {
      "text/plain": [
       "72"
      ]
     },
     "execution_count": 33,
     "metadata": {},
     "output_type": "execute_result"
    }
   ],
   "source": [
    "#dof\n",
    "observedValue.shape\n",
    "dof=(5-1)*(19-1)\n",
    "dof"
   ]
  },
  {
   "cell_type": "code",
   "execution_count": 34,
   "id": "71a17300",
   "metadata": {
    "scrolled": true
   },
   "outputs": [
    {
     "name": "stdout",
     "output_type": "stream",
     "text": [
      "chi_critical: 92.80827038310773\n",
      "-----------------------------------\n",
      "test_stat: 264.3544361441865\n",
      "p_value 9.004103479489286e-24\n",
      "dof 72\n"
     ]
    }
   ],
   "source": [
    "#calculating critical value for chisquare test of independence\n",
    "chi_critical=stats.chi2.isf(0.05,72)\n",
    "print('chi_critical:',chi_critical)\n",
    "print('-'*35)\n",
    "#calculating test_stat and p_value\n",
    "test_stat , p_value , dof ,expected_value=chi2_contingency(observedValue,correction=False)\n",
    "print('test_stat:',test_stat)\n",
    "print('p_value',p_value)\n",
    "print('dof',dof)\n"
   ]
  },
  {
   "cell_type": "code",
   "execution_count": 35,
   "id": "a2fd2225",
   "metadata": {},
   "outputs": [],
   "source": [
    "##here test_stat>z_critical, therefor reject null=accept alternate, so we can conclude that\n",
    "#overall rating and skillmove are dependent on each other"
   ]
  },
  {
   "cell_type": "code",
   "execution_count": 36,
   "id": "c9d1f258",
   "metadata": {},
   "outputs": [
    {
     "data": {
      "text/plain": [
       "<AxesSubplot:xlabel='Skill Moves', ylabel='Overall_rating'>"
      ]
     },
     "execution_count": 36,
     "metadata": {},
     "output_type": "execute_result"
    },
    {
     "data": {
      "image/png": "[encoded data removed]",
      "text/plain": [
       "<Figure size 432x288 with 1 Axes>"
      ]
     },
     "metadata": {
      "needs_background": "light"
     },
     "output_type": "display_data"
    }
   ],
   "source": [
    "#plotting scatterplot\n",
    "sns.scatterplot(data=df,x='Skill Moves',y='Overall_rating')"
   ]
  },
  {
   "cell_type": "markdown",
   "id": "d9a1d0d5",
   "metadata": {},
   "source": [
    "# Note: \n",
    "1) Perform all the Statistical analysis with 5% (Significance level). \n",
    "      \n",
    "2) Assume all the features are normally distributed and have equal variance.\n",
    "\n",
    "\n"
   ]
  },
  {
   "cell_type": "markdown",
   "id": "a802d519",
   "metadata": {},
   "source": [
    "2. Perform the following statistical analysis on the mobile network dataset given. The given data set contains information about the internet, calls, and messages of various network. Data Cleaning and basic EDA process needs to be performed. \n",
    "\n"
   ]
  },
  {
   "cell_type": "code",
   "execution_count": 37,
   "id": "5dfd54c0",
   "metadata": {
    "scrolled": true
   },
   "outputs": [
    {
     "data": {
      "text/html": [
       "<div>\n",
       "<style scoped>\n",
       "    .dataframe tbody tr th:only-of-type {\n",
       "        vertical-align: middle;\n",
       "    }\n",
       "\n",
       "    .dataframe tbody tr th {\n",
       "        vertical-align: top;\n",
       "    }\n",
       "\n",
       "    .dataframe thead th {\n",
       "        text-align: right;\n",
       "    }\n",
       "</style>\n",
       "<table border=\"1\" class=\"dataframe\">\n",
       "  <thead>\n",
       "    <tr style=\"text-align: right;\">\n",
       "      <th></th>\n",
       "      <th>date</th>\n",
       "      <th>duration</th>\n",
       "      <th>item</th>\n",
       "      <th>month</th>\n",
       "      <th>network</th>\n",
       "      <th>network_type</th>\n",
       "    </tr>\n",
       "  </thead>\n",
       "  <tbody>\n",
       "    <tr>\n",
       "      <th>0</th>\n",
       "      <td>15-10-14 6:58</td>\n",
       "      <td>221.321120</td>\n",
       "      <td>data</td>\n",
       "      <td>2014-11</td>\n",
       "      <td>data</td>\n",
       "      <td>data</td>\n",
       "    </tr>\n",
       "    <tr>\n",
       "      <th>1</th>\n",
       "      <td>15-10-14 6:58</td>\n",
       "      <td>81.610599</td>\n",
       "      <td>call</td>\n",
       "      <td>2014-11</td>\n",
       "      <td>Vodafone</td>\n",
       "      <td>mobile</td>\n",
       "    </tr>\n",
       "    <tr>\n",
       "      <th>2</th>\n",
       "      <td>15-10-14 14:46</td>\n",
       "      <td>143.109111</td>\n",
       "      <td>call</td>\n",
       "      <td>2014-11</td>\n",
       "      <td>Meteor</td>\n",
       "      <td>mobile</td>\n",
       "    </tr>\n",
       "    <tr>\n",
       "      <th>3</th>\n",
       "      <td>15-10-14 14:48</td>\n",
       "      <td>111.888670</td>\n",
       "      <td>call</td>\n",
       "      <td>2014-11</td>\n",
       "      <td>Tesco</td>\n",
       "      <td>mobile</td>\n",
       "    </tr>\n",
       "    <tr>\n",
       "      <th>4</th>\n",
       "      <td>15-10-14 17:27</td>\n",
       "      <td>246.695171</td>\n",
       "      <td>call</td>\n",
       "      <td>2014-11</td>\n",
       "      <td>Tesco</td>\n",
       "      <td>mobile</td>\n",
       "    </tr>\n",
       "  </tbody>\n",
       "</table>\n",
       "</div>"
      ],
      "text/plain": [
       "             date    duration  item    month   network network_type\n",
       "0   15-10-14 6:58  221.321120  data  2014-11      data         data\n",
       "1   15-10-14 6:58   81.610599  call  2014-11  Vodafone       mobile\n",
       "2  15-10-14 14:46  143.109111  call  2014-11    Meteor       mobile\n",
       "3  15-10-14 14:48  111.888670  call  2014-11     Tesco       mobile\n",
       "4  15-10-14 17:27  246.695171  call  2014-11     Tesco       mobile"
      ]
     },
     "execution_count": 37,
     "metadata": {},
     "output_type": "execute_result"
    }
   ],
   "source": [
    "df1=pd.read_csv('phone.csv')\n",
    "df1.head(5)"
   ]
  },
  {
   "cell_type": "code",
   "execution_count": 38,
   "id": "5ae06391",
   "metadata": {},
   "outputs": [
    {
     "data": {
      "text/plain": [
       "<AxesSubplot:>"
      ]
     },
     "execution_count": 38,
     "metadata": {},
     "output_type": "execute_result"
    },
    {
     "data": {
      "image/png": "[encoded data removed]",
      "text/plain": [
       "<Figure size 432x288 with 2 Axes>"
      ]
     },
     "metadata": {
      "needs_background": "light"
     },
     "output_type": "display_data"
    }
   ],
   "source": [
    "#checking null value\n",
    "sns.heatmap(df1.isna())"
   ]
  },
  {
   "cell_type": "code",
   "execution_count": 39,
   "id": "773a4dc9",
   "metadata": {},
   "outputs": [],
   "source": [
    "#manipulating data\n",
    "df1['date']=pd.to_datetime(df1['date'])\n",
    "df1['month']=pd.to_datetime(df1['month'])"
   ]
  },
  {
   "cell_type": "code",
   "execution_count": 40,
   "id": "f37b3c27",
   "metadata": {},
   "outputs": [
    {
     "data": {
      "text/plain": [
       "date            datetime64[ns]\n",
       "duration               float64\n",
       "item                    object\n",
       "month           datetime64[ns]\n",
       "network                 object\n",
       "network_type            object\n",
       "dtype: object"
      ]
     },
     "execution_count": 40,
     "metadata": {},
     "output_type": "execute_result"
    }
   ],
   "source": [
    "#checking dtype\n",
    "df1.dtypes"
   ]
  },
  {
   "cell_type": "markdown",
   "id": "9fefefe0",
   "metadata": {},
   "source": [
    "a) With 95% & 99% Confidence Interval, find the range estimate of average duration calls made by the entire network. Which of the Intervals are wider? Interpret the results.\n"
   ]
  },
  {
   "cell_type": "code",
   "execution_count": 41,
   "id": "45976c9f",
   "metadata": {
    "scrolled": false
   },
   "outputs": [
    {
     "name": "stdout",
     "output_type": "stream",
     "text": [
      "confidence interval for 95%: (141.1778397288302, 147.4320313908407)\n",
      "----------------------------------------------------------------------\n",
      "confidence interval for 99%: (140.19523500408818, 148.41463611558274)\n"
     ]
    }
   ],
   "source": [
    "#calculatimng estimated mean interval for both the variables\n",
    "x_bar=df1['duration'].mean()\n",
    "sd=df1['duration'].std()\n",
    "n=len(df1)\n",
    "#calculating 95 % interval\n",
    "print('confidence interval for 95%:',stats.norm.interval(0.95,loc=x_bar , scale=sd/n**0.5))\n",
    "\n",
    "print('-'*70)\n",
    "\n",
    "#calculating 99 % interval\n",
    "print('confidence interval for 99%:',stats.norm.interval(0.99,loc=x_bar , scale=sd/n**0.5))"
   ]
  },
  {
   "cell_type": "code",
   "execution_count": 42,
   "id": "d3323ed8",
   "metadata": {},
   "outputs": [],
   "source": [
    "#confidence interval for 99% are wider than 95%"
   ]
  },
  {
   "cell_type": "markdown",
   "id": "af0ac3a5",
   "metadata": {},
   "source": [
    "b) Perform statistical analysis to check whether the networks are equally distributed in the dataset.\n"
   ]
  },
  {
   "cell_type": "code",
   "execution_count": 43,
   "id": "c1f2dac7",
   "metadata": {},
   "outputs": [],
   "source": [
    "#H0:avg duration for all network is same\n",
    "#H1:atleast for one network avg duration is different"
   ]
  },
  {
   "cell_type": "code",
   "execution_count": 44,
   "id": "2890a0d6",
   "metadata": {},
   "outputs": [
    {
     "data": {
      "text/plain": [
       "array(['data', 'Vodafone', 'Meteor', 'Tesco', 'Three', 'voicemail',\n",
       "       'landline'], dtype=object)"
      ]
     },
     "execution_count": 44,
     "metadata": {},
     "output_type": "execute_result"
    }
   ],
   "source": [
    "df1['network'].unique()"
   ]
  },
  {
   "cell_type": "code",
   "execution_count": 45,
   "id": "6c4f11c4",
   "metadata": {},
   "outputs": [],
   "source": [
    "data_d=df1[df1['network']=='data']['duration']\n",
    "data_v=df1[df1['network']=='Vodafone']['duration']\n",
    "data_m=df1[df1['network']=='Meteor']['duration']\n",
    "data_te=df1[df1['network']=='Tesco']['duration']\n",
    "data_th=df1[df1['network']=='Three']['duration']\n",
    "data_vo=df1[df1['network']=='voicemail']['duration']\n",
    "data_l=df1[df1['network']=='landline']['duration']\n"
   ]
  },
  {
   "cell_type": "code",
   "execution_count": 46,
   "id": "d52dff30",
   "metadata": {
    "scrolled": true
   },
   "outputs": [
    {
     "data": {
      "text/plain": [
       "ShapiroResult(statistic=0.9984679818153381, pvalue=0.701244592666626)"
      ]
     },
     "execution_count": 46,
     "metadata": {},
     "output_type": "execute_result"
    }
   ],
   "source": [
    "#checking normality of data by using shaphiro walk test\n",
    "stats.shapiro(df1['duration'])"
   ]
  },
  {
   "cell_type": "code",
   "execution_count": 47,
   "id": "91bd8549",
   "metadata": {},
   "outputs": [],
   "source": [
    "#p_value> alpha , therefore failed to rejct null , data is normally distributed"
   ]
  },
  {
   "cell_type": "code",
   "execution_count": 48,
   "id": "2ffbf5bd",
   "metadata": {},
   "outputs": [
    {
     "data": {
      "text/plain": [
       "LeveneResult(statistic=1.5297363988286818, pvalue=0.1653481809327658)"
      ]
     },
     "execution_count": 48,
     "metadata": {},
     "output_type": "execute_result"
    }
   ],
   "source": [
    "#checking equality of variances by using levene test\n",
    "stats.levene(data_d,data_l,data_m,data_te,data_th,data_v,data_vo)"
   ]
  },
  {
   "cell_type": "code",
   "execution_count": 49,
   "id": "39608bf2",
   "metadata": {},
   "outputs": [],
   "source": [
    "#p_value> alpha , therefore failed to reect null , so variances are equal"
   ]
  },
  {
   "cell_type": "code",
   "execution_count": 50,
   "id": "21057921",
   "metadata": {},
   "outputs": [
    {
     "data": {
      "text/plain": [
       "7"
      ]
     },
     "execution_count": 50,
     "metadata": {},
     "output_type": "execute_result"
    }
   ],
   "source": [
    "#calculating dof\n",
    "k=df1['network'].nunique()\n",
    "N=df1['duration'].value_counts().sum()\n",
    "k"
   ]
  },
  {
   "cell_type": "code",
   "execution_count": 51,
   "id": "2b79a052",
   "metadata": {
    "scrolled": true
   },
   "outputs": [
    {
     "name": "stdout",
     "output_type": "stream",
     "text": [
      "f_critical for one-wat annova: 3.6741933778842375\n",
      "----------------------------------------------------------------------\n",
      "f_stat: 1.4036497792001215\n",
      "p_value: 0.2102939953009413\n"
     ]
    }
   ],
   "source": [
    "#calclating critical value\n",
    "f_critical=stats.f.isf(0.05,dfd=k-1,dfn=N-k)\n",
    "print('f_critical for one-wat annova:',f_critical)\n",
    "\n",
    "print('-'*70)\n",
    "#calculating f_stat and p_value\n",
    "f_stat,p_value=stats.f_oneway(data_d,data_l,data_m,data_te,data_th,data_v,data_vo)\n",
    "print('f_stat:',f_stat)\n",
    "print('p_value:',p_value)"
   ]
  },
  {
   "cell_type": "code",
   "execution_count": 52,
   "id": "79d2cc06",
   "metadata": {},
   "outputs": [],
   "source": [
    "# f_stat<f_critical, therefore failed to reject null, so we can conclude that all networks are equally distributed"
   ]
  },
  {
   "cell_type": "markdown",
   "id": "be6376b6",
   "metadata": {},
   "source": [
    "c) Plot the distribution of duration with respect to each network in the same graph and interpret the results from the graph.\n"
   ]
  },
  {
   "cell_type": "code",
   "execution_count": 53,
   "id": "0aa961f6",
   "metadata": {},
   "outputs": [
    {
     "data": {
      "image/png": "[encoded data removed]",
      "text/plain": [
       "<Figure size 1000x800 with 1 Axes>"
      ]
     },
     "metadata": {
      "needs_background": "light"
     },
     "output_type": "display_data"
    }
   ],
   "source": [
    "plt.figure(figsize=(10,8),dpi=100)\n",
    "sns.histplot(data=df1,x='duration',hue='network',kde=True,palette=\"gist_ncar_r\")\n",
    "plt.show()"
   ]
  },
  {
   "cell_type": "code",
   "execution_count": 54,
   "id": "1711c910",
   "metadata": {},
   "outputs": [],
   "source": [
    "#by visualising we can say that all networks are almost equally distributed"
   ]
  },
  {
   "cell_type": "code",
   "execution_count": 76,
   "id": "6e7af28a",
   "metadata": {},
   "outputs": [
    {
     "data": {
      "image/png": "[encoded data removed]",
      "text/plain": [
       "<Figure size 1000x800 with 1 Axes>"
      ]
     },
     "metadata": {
      "needs_background": "light"
     },
     "output_type": "display_data"
    }
   ],
   "source": [
    "plt.figure(figsize=(10,8),dpi=100)\n",
    "sns.boxplot(x='network',y='duration',data=df1,palette='inferno')\n",
    "plt.show()"
   ]
  },
  {
   "cell_type": "markdown",
   "id": "6520dfc0",
   "metadata": {},
   "source": [
    "d)\tPerform statistical tests to identify the relation between item and duration. Detailed explanation of relation between the classes is required.\n"
   ]
  },
  {
   "cell_type": "code",
   "execution_count": 55,
   "id": "45491dfc",
   "metadata": {},
   "outputs": [
    {
     "data": {
      "text/plain": [
       "Index(['date', 'duration', 'item', 'month', 'network', 'network_type'], dtype='object')"
      ]
     },
     "execution_count": 55,
     "metadata": {},
     "output_type": "execute_result"
    }
   ],
   "source": [
    "df1.columns"
   ]
  },
  {
   "cell_type": "code",
   "execution_count": 56,
   "id": "52bc301b",
   "metadata": {},
   "outputs": [],
   "source": [
    "#H0:variables are independent\n",
    "#H1:variables are not independent"
   ]
  },
  {
   "cell_type": "code",
   "execution_count": 57,
   "id": "4a42ebfd",
   "metadata": {},
   "outputs": [
    {
     "data": {
      "text/html": [
       "<div>\n",
       "<style scoped>\n",
       "    .dataframe tbody tr th:only-of-type {\n",
       "        vertical-align: middle;\n",
       "    }\n",
       "\n",
       "    .dataframe tbody tr th {\n",
       "        vertical-align: top;\n",
       "    }\n",
       "\n",
       "    .dataframe thead th {\n",
       "        text-align: right;\n",
       "    }\n",
       "</style>\n",
       "<table border=\"1\" class=\"dataframe\">\n",
       "  <thead>\n",
       "    <tr style=\"text-align: right;\">\n",
       "      <th>duration</th>\n",
       "      <th>0.993514</th>\n",
       "      <th>14.173899</th>\n",
       "      <th>15.927469</th>\n",
       "      <th>21.456720</th>\n",
       "      <th>32.116432</th>\n",
       "      <th>32.957849</th>\n",
       "      <th>36.796316</th>\n",
       "      <th>38.178570</th>\n",
       "      <th>38.190416</th>\n",
       "      <th>42.386148</th>\n",
       "      <th>...</th>\n",
       "      <th>250.015752</th>\n",
       "      <th>250.865661</th>\n",
       "      <th>252.947691</th>\n",
       "      <th>255.202191</th>\n",
       "      <th>260.813244</th>\n",
       "      <th>264.422909</th>\n",
       "      <th>264.850816</th>\n",
       "      <th>268.343460</th>\n",
       "      <th>268.443922</th>\n",
       "      <th>268.458090</th>\n",
       "    </tr>\n",
       "    <tr>\n",
       "      <th>item</th>\n",
       "      <th></th>\n",
       "      <th></th>\n",
       "      <th></th>\n",
       "      <th></th>\n",
       "      <th></th>\n",
       "      <th></th>\n",
       "      <th></th>\n",
       "      <th></th>\n",
       "      <th></th>\n",
       "      <th></th>\n",
       "      <th></th>\n",
       "      <th></th>\n",
       "      <th></th>\n",
       "      <th></th>\n",
       "      <th></th>\n",
       "      <th></th>\n",
       "      <th></th>\n",
       "      <th></th>\n",
       "      <th></th>\n",
       "      <th></th>\n",
       "      <th></th>\n",
       "    </tr>\n",
       "  </thead>\n",
       "  <tbody>\n",
       "    <tr>\n",
       "      <th>call</th>\n",
       "      <td>0</td>\n",
       "      <td>0</td>\n",
       "      <td>1</td>\n",
       "      <td>1</td>\n",
       "      <td>1</td>\n",
       "      <td>0</td>\n",
       "      <td>1</td>\n",
       "      <td>1</td>\n",
       "      <td>0</td>\n",
       "      <td>1</td>\n",
       "      <td>...</td>\n",
       "      <td>1</td>\n",
       "      <td>0</td>\n",
       "      <td>1</td>\n",
       "      <td>1</td>\n",
       "      <td>1</td>\n",
       "      <td>1</td>\n",
       "      <td>0</td>\n",
       "      <td>0</td>\n",
       "      <td>1</td>\n",
       "      <td>0</td>\n",
       "    </tr>\n",
       "    <tr>\n",
       "      <th>data</th>\n",
       "      <td>1</td>\n",
       "      <td>0</td>\n",
       "      <td>0</td>\n",
       "      <td>0</td>\n",
       "      <td>0</td>\n",
       "      <td>0</td>\n",
       "      <td>0</td>\n",
       "      <td>0</td>\n",
       "      <td>0</td>\n",
       "      <td>0</td>\n",
       "      <td>...</td>\n",
       "      <td>0</td>\n",
       "      <td>0</td>\n",
       "      <td>0</td>\n",
       "      <td>0</td>\n",
       "      <td>0</td>\n",
       "      <td>0</td>\n",
       "      <td>0</td>\n",
       "      <td>0</td>\n",
       "      <td>0</td>\n",
       "      <td>1</td>\n",
       "    </tr>\n",
       "    <tr>\n",
       "      <th>sms</th>\n",
       "      <td>0</td>\n",
       "      <td>1</td>\n",
       "      <td>0</td>\n",
       "      <td>0</td>\n",
       "      <td>0</td>\n",
       "      <td>1</td>\n",
       "      <td>0</td>\n",
       "      <td>0</td>\n",
       "      <td>1</td>\n",
       "      <td>0</td>\n",
       "      <td>...</td>\n",
       "      <td>0</td>\n",
       "      <td>1</td>\n",
       "      <td>0</td>\n",
       "      <td>0</td>\n",
       "      <td>0</td>\n",
       "      <td>0</td>\n",
       "      <td>1</td>\n",
       "      <td>1</td>\n",
       "      <td>0</td>\n",
       "      <td>0</td>\n",
       "    </tr>\n",
       "  </tbody>\n",
       "</table>\n",
       "<p>3 rows × 820 columns</p>\n",
       "</div>"
      ],
      "text/plain": [
       "duration  0.993514    14.173899   15.927469   21.456720   32.116432   \\\n",
       "item                                                                   \n",
       "call               0           0           1           1           1   \n",
       "data               1           0           0           0           0   \n",
       "sms                0           1           0           0           0   \n",
       "\n",
       "duration  32.957849   36.796316   38.178570   38.190416   42.386148   ...  \\\n",
       "item                                                                  ...   \n",
       "call               0           1           1           0           1  ...   \n",
       "data               0           0           0           0           0  ...   \n",
       "sms                1           0           0           1           0  ...   \n",
       "\n",
       "duration  250.015752  250.865661  252.947691  255.202191  260.813244  \\\n",
       "item                                                                   \n",
       "call               1           0           1           1           1   \n",
       "data               0           0           0           0           0   \n",
       "sms                0           1           0           0           0   \n",
       "\n",
       "duration  264.422909  264.850816  268.343460  268.443922  268.458090  \n",
       "item                                                                  \n",
       "call               1           0           0           1           0  \n",
       "data               0           0           0           0           1  \n",
       "sms                0           1           1           0           0  \n",
       "\n",
       "[3 rows x 820 columns]"
      ]
     },
     "execution_count": 57,
     "metadata": {},
     "output_type": "execute_result"
    }
   ],
   "source": [
    "observed_Value=pd.crosstab(df1['item'],df1['duration'])\n",
    "observed_Value\n"
   ]
  },
  {
   "cell_type": "code",
   "execution_count": 58,
   "id": "aa857c46",
   "metadata": {},
   "outputs": [
    {
     "data": {
      "text/plain": [
       "1638"
      ]
     },
     "execution_count": 58,
     "metadata": {},
     "output_type": "execute_result"
    }
   ],
   "source": [
    "#dof\n",
    "observed_Value.shape\n",
    "dof=(3-1)*(820-1)\n",
    "dof"
   ]
  },
  {
   "cell_type": "code",
   "execution_count": 59,
   "id": "94116c14",
   "metadata": {
    "scrolled": false
   },
   "outputs": [
    {
     "name": "stdout",
     "output_type": "stream",
     "text": [
      "chi_critical for chisquare test:  1733.2686637254637\n",
      " \n",
      "----------------------------------------------------------------------------------------------------\n",
      "test_stat: 1640.0\n",
      "p_value 0.4814258260445956\n",
      "dof 1638\n",
      "expected_value [[0.47317073 0.47317073 0.47317073 ... 0.47317073 0.47317073 0.47317073]\n",
      " [0.18292683 0.18292683 0.18292683 ... 0.18292683 0.18292683 0.18292683]\n",
      " [0.34390244 0.34390244 0.34390244 ... 0.34390244 0.34390244 0.34390244]]\n"
     ]
    }
   ],
   "source": [
    "#calculating critical value\n",
    "chi_critical=stats.chi2.isf(0.05,1638)\n",
    "print('chi_critical for chisquare test: ',chi_critical)\n",
    "\n",
    "print(' ')\n",
    "print('-'*100)\n",
    "#calculating test_stat , p_value\n",
    "test_stat , p_value ,dof ,expected_value=chi2_contingency(observed_Value , correction=False)\n",
    "print('test_stat:',test_stat)\n",
    "print('p_value',p_value)\n",
    "print('dof',dof)\n",
    "print('expected_value',expected_value)"
   ]
  },
  {
   "cell_type": "code",
   "execution_count": 60,
   "id": "dbea4dc1",
   "metadata": {},
   "outputs": [],
   "source": [
    "#here p_value>alpha(level of significance ),therefore failed to reject null, so we can conclude that item and \n",
    "#duration are independent"
   ]
  },
  {
   "cell_type": "code",
   "execution_count": 61,
   "id": "b802fcd8",
   "metadata": {},
   "outputs": [
    {
     "data": {
      "image/png": "[encoded data removed]",
      "text/plain": [
       "<Figure size 432x288 with 1 Axes>"
      ]
     },
     "metadata": {
      "needs_background": "light"
     },
     "output_type": "display_data"
    }
   ],
   "source": [
    "sns.scatterplot(data=df1,x='duration',y='item',color='DarkGreen')\n",
    "plt.show()"
   ]
  },
  {
   "cell_type": "markdown",
   "id": "e2ca09ab",
   "metadata": {},
   "source": [
    "e)\tPerform statistical tests to identify the relation between network and network_type. \n"
   ]
  },
  {
   "cell_type": "code",
   "execution_count": 62,
   "id": "03512c2f",
   "metadata": {},
   "outputs": [],
   "source": [
    "#H0:variables are independent\n",
    "#H1:variables are not independent"
   ]
  },
  {
   "cell_type": "code",
   "execution_count": 63,
   "id": "5fd5ac95",
   "metadata": {
    "scrolled": true
   },
   "outputs": [
    {
     "data": {
      "text/plain": [
       "array([[  0,   0,  87,   0],\n",
       "       [  0,   0,  84,   0],\n",
       "       [  0,   0, 215,   0],\n",
       "       [  0,   0, 215,   0],\n",
       "       [150,   0,   0,   0],\n",
       "       [  0,  42,   0,   0],\n",
       "       [  0,   0,   0,  27]], dtype=int64)"
      ]
     },
     "execution_count": 63,
     "metadata": {},
     "output_type": "execute_result"
    }
   ],
   "source": [
    "Table=pd.crosstab(df1['network'],df1['network_type'])\n",
    "Observed_Value=Table.values\n",
    "Observed_Value"
   ]
  },
  {
   "cell_type": "code",
   "execution_count": 64,
   "id": "43935480",
   "metadata": {},
   "outputs": [
    {
     "data": {
      "text/plain": [
       "18"
      ]
     },
     "execution_count": 64,
     "metadata": {},
     "output_type": "execute_result"
    }
   ],
   "source": [
    "#dof\n",
    "Observed_Value.shape\n",
    "dof=(7-1)*(4-1)\n",
    "dof"
   ]
  },
  {
   "cell_type": "code",
   "execution_count": 65,
   "id": "6a68da5b",
   "metadata": {
    "scrolled": true
   },
   "outputs": [
    {
     "name": "stdout",
     "output_type": "stream",
     "text": [
      "chi_critical for chisquare test:  28.869299430392637\n",
      "[[  0   0  87   0]\n",
      " [  0   0  84   0]\n",
      " [  0   0 215   0]\n",
      " [  0   0 215   0]\n",
      " [150   0   0   0]\n",
      " [  0  42   0   0]\n",
      " [  0   0   0  27]]\n",
      " \n",
      "----------------------------------------------------------------------------------------------------\n",
      "test_stat: 2460.0\n",
      "p_value 0.0\n",
      "dof 18\n",
      "expected_value [[ 15.91463415   4.45609756  63.76463415   2.86463415]\n",
      " [ 15.36585366   4.30243902  61.56585366   2.76585366]\n",
      " [ 39.32926829  11.01219512 157.57926829   7.07926829]\n",
      " [ 39.32926829  11.01219512 157.57926829   7.07926829]\n",
      " [ 27.43902439   7.68292683 109.93902439   4.93902439]\n",
      " [  7.68292683   2.15121951  30.78292683   1.38292683]\n",
      " [  4.93902439   1.38292683  19.78902439   0.88902439]]\n"
     ]
    }
   ],
   "source": [
    "#calculating critical value\n",
    "chi_critical=stats.chi2.isf(0.05,18)\n",
    "print('chi_critical for chisquare test: ',chi_critical)\n",
    "print(Observed_Value)\n",
    "\n",
    "print(' ')\n",
    "print('-'*100)\n",
    "#calculating test_stat , p_value\n",
    "test_stat , p_value ,dof ,expected_value=chi2_contingency(Observed_Value , correction=False)\n",
    "print('test_stat:',test_stat)\n",
    "print('p_value',p_value)\n",
    "print('dof',dof)\n",
    "print('expected_value',expected_value)"
   ]
  },
  {
   "cell_type": "code",
   "execution_count": 66,
   "id": "35c7f9e4",
   "metadata": {},
   "outputs": [],
   "source": [
    "#here p_value<alpha, therefore reject null=accept alternate , so we can conclude that network and network \n",
    "#dependent on each other"
   ]
  },
  {
   "cell_type": "code",
   "execution_count": 67,
   "id": "e97dad0f",
   "metadata": {},
   "outputs": [
    {
     "data": {
      "image/png": "[encoded data removed]",
      "text/plain": [
       "<Figure size 432x288 with 1 Axes>"
      ]
     },
     "metadata": {
      "needs_background": "light"
     },
     "output_type": "display_data"
    }
   ],
   "source": [
    "sns.scatterplot(data=df1,x='network',y='network_type',color='DarkGreen')\n",
    "plt.show()"
   ]
  }
 ],
 "metadata": {
  "kernelspec": {
   "display_name": "Python 3 (ipykernel)",
   "language": "python",
   "name": "python3"
  },
  "language_info": {
   "codemirror_mode": {
    "name": "ipython",
    "version": 3
   },
   "file_extension": ".py",
   "mimetype": "text/x-python",
   "name": "python",
   "nbconvert_exporter": "python",
   "pygments_lexer": "ipython3",
   "version": "3.9.7"
  }
 },
 "nbformat": 4,
 "nbformat_minor": 5
}
